{
 "cells": [
  {
   "cell_type": "code",
   "execution_count": 1,
   "id": "a83d606f",
   "metadata": {},
   "outputs": [
    {
     "name": "stdout",
     "output_type": "stream",
     "text": [
      "Length of steps: 13\n",
      "Type of steps: <class 'list'>\n",
      "Length of capturedEvents: 11\n",
      "Type of capturedEvents: <class 'list'>\n"
     ]
    }
   ],
   "source": [
    "import json\n",
    "\n",
    "with open('../flow.json', 'r') as f:\n",
    "    flow = json.load(f)\n",
    "\n",
    "print(\"Length of steps:\", len(flow['steps']))\n",
    "print(\"Type of steps:\", type(flow['steps']))\n",
    "print(\"Length of capturedEvents:\", len(flow['capturedEvents']))\n",
    "print(\"Type of capturedEvents:\", type(flow['capturedEvents']))"
   ]
  },
  {
   "cell_type": "code",
   "execution_count": null,
   "id": "b1903b7e",
   "metadata": {},
   "outputs": [],
   "source": []
  }
 ],
 "metadata": {
  "kernelspec": {
   "display_name": "arcade",
   "language": "python",
   "name": "python3"
  },
  "language_info": {
   "codemirror_mode": {
    "name": "ipython",
    "version": 3
   },
   "file_extension": ".py",
   "mimetype": "text/x-python",
   "name": "python",
   "nbconvert_exporter": "python",
   "pygments_lexer": "ipython3",
   "version": "3.13.7"
  }
 },
 "nbformat": 4,
 "nbformat_minor": 5
}
